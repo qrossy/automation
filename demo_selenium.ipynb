{
 "cells": [
  {
   "cell_type": "markdown",
   "metadata": {},
   "source": [
    "<h1>IVI - Traces Web et module selenium</h1>"
   ]
  },
  {
   "cell_type": "markdown",
   "metadata": {},
   "source": [
    "# 1. Installation du module et webdrivers\n",
    "\n",
    "Depuis le terminal (UNIX) ou invite de commande (Windows)."
   ]
  },
  {
   "cell_type": "code",
   "execution_count": null,
   "metadata": {},
   "outputs": [],
   "source": [
    "pip install selenium"
   ]
  },
  {
   "cell_type": "markdown",
   "metadata": {},
   "source": [
    "* [**selenium**](https://selenium-python.readthedocs.io/): Automatisation et manipulation de webdriver.\n",
    "\n",
    "### Webdrivers\n",
    "Télécharger le/les webdriver(s) désiré(s), correspondants aux versions de vos applications installées.\n",
    "* [**Firefox**](https://github.com/mozilla/geckodriver/releases)\n",
    "* [**Chrome**](https://sites.google.com/chromium.org/driver/)\n",
    "* [Edge](https://developer.microsoft.com/en-us/microsoft-edge/tools/webdriver/), [Safari](https://webkit.org/blog/6900/webdriver-support-in-safari-10/), [Opera](https://github.com/operasoftware/operachromiumdriver/releases), ect."
   ]
  },
  {
   "cell_type": "markdown",
   "metadata": {},
   "source": [
    "# 2. Script webdriver.py"
   ]
  },
  {
   "cell_type": "markdown",
   "metadata": {},
   "source": [
    "## 2.1. Importation du module"
   ]
  },
  {
   "cell_type": "code",
   "execution_count": 1,
   "metadata": {},
   "outputs": [],
   "source": [
    "from selenium import webdriver"
   ]
  },
  {
   "cell_type": "markdown",
   "metadata": {},
   "source": [
    "## 2.2. Firefox (geckodriver)"
   ]
  },
  {
   "cell_type": "markdown",
   "metadata": {},
   "source": [
    "### 2.2.1. Instanciation du webdriver"
   ]
  },
  {
   "cell_type": "code",
   "execution_count": 2,
   "metadata": {},
   "outputs": [],
   "source": [
    "gecko_path = './webdrivers/geckodriver.exe'"
   ]
  },
  {
   "cell_type": "code",
   "execution_count": 3,
   "metadata": {},
   "outputs": [],
   "source": [
    "driver = webdriver.Firefox(executable_path=gecko_path)"
   ]
  },
  {
   "cell_type": "markdown",
   "metadata": {},
   "source": [
    "**gecko_path** est le chemin d'accès au programme du webdriver (à changer).\n",
    "\n",
    "*Remarque*: Il est également possible d'ajouter les webdrivers directement aux variables d'environnement."
   ]
  },
  {
   "cell_type": "markdown",
   "metadata": {},
   "source": [
    "### 2.2.2. Configurer votre webdriver\n",
    "\n",
    "De [nombreux paramètres](http://kb.mozillazine.org/About:config) peuvent être configurés lors de l'utilisation du webdriver."
   ]
  },
  {
   "cell_type": "code",
   "execution_count": 4,
   "metadata": {},
   "outputs": [],
   "source": [
    "options = webdriver.firefox.options.Options()\n",
    "\n",
    "options.headless = False #masque la fenêtre: True pour la masquer, False pour l'afficher.\n",
    "options.set_preference(\"dom.push.enabled\", False) #bloque les popup de notifications\n",
    "\n",
    "profile = webdriver.FirefoxProfile()\n",
    "profile.set_preference(\"general.useragent.override\", \"Mozilla/5.0 (Windows NT 10.0; Win64; x64) AppleWebKit/537.36 (KHTML, like Gecko) Chrome/74.0.3729.169 Safari/537.36\") #définit un useragent"
   ]
  },
  {
   "cell_type": "code",
   "execution_count": 5,
   "metadata": {},
   "outputs": [],
   "source": [
    "driver = webdriver.Firefox(firefox_profile=profile, executable_path=gecko_path, options=options)"
   ]
  },
  {
   "cell_type": "markdown",
   "metadata": {},
   "source": [
    "## 2.4. La fonction get()\n",
    "\n",
    "La  fonction get() permet de demander l'accès à une ressource web via son URL."
   ]
  },
  {
   "cell_type": "code",
   "execution_count": 6,
   "metadata": {},
   "outputs": [],
   "source": [
    "url = 'http://example.com/'\n",
    "driver.get(url)"
   ]
  },
  {
   "cell_type": "markdown",
   "metadata": {},
   "source": [
    "### Résultat\n",
    "Le navigateur contrôlé génère la requête HTTP et interprète le code reçu.\n",
    "\n",
    "### <span style=\"color: red;\">Code client</span>\n",
    "Chaine de caractères avec les données du code contenu dans le navigateur, après exécution du code serveur reçu."
   ]
  },
  {
   "cell_type": "code",
   "execution_count": 7,
   "metadata": {},
   "outputs": [],
   "source": [
    "client_code = driver.page_source"
   ]
  },
  {
   "cell_type": "code",
   "execution_count": 8,
   "metadata": {},
   "outputs": [
    {
     "name": "stdout",
     "output_type": "stream",
     "text": [
      "<html><head>\n",
      "    <title>Example Domain</title>\n",
      "\n",
      "    <meta charset=\"utf-8\">\n",
      "    <meta http-equiv=\"Content-type\" content=\"text/html; charset=utf-8\">\n",
      "    <meta name=\"viewport\" content=\"width=device-width, initial-scale=1\">\n",
      "    <style type=\"text/css\">\n",
      "    body {\n",
      "        background-color: #f0f0f2;\n",
      "        margin: 0;\n",
      "        padding: 0;\n",
      "        font-family: -apple-system, system-ui, BlinkMacSystemFont, \"Segoe UI\", \"Open Sans\", \"Helvetica Neue\", Helvetica, Arial, sans-serif;\n",
      "        \n",
      "    }\n",
      "    div {\n",
      "        width: 600px;\n",
      "        margin: 5em auto;\n",
      "        padding: 2em;\n",
      "        background-color: #fdfdff;\n",
      "        border-radius: 0.5em;\n",
      "        box-shadow: 2px 3px 7px 2px rgba(0,0,0,0.02);\n",
      "    }\n",
      "    a:link, a:visited {\n",
      "        color: #38488f;\n",
      "        text-decoration: none;\n",
      "    }\n",
      "    @media (max-width: 700px) {\n",
      "        div {\n",
      "            margin: 0 auto;\n",
      "            width: auto;\n",
      "        }\n",
      "    }\n",
      "    </style>    \n",
      "</head>\n",
      "\n",
      "<body>\n",
      "<div>\n",
      "    <h1>Example Domain</h1>\n",
      "    <p>This domain is for use in illustrative examples in documents. You may use this\n",
      "    domain in literature without prior coordination or asking for permission.</p>\n",
      "    <p><a href=\"https://www.iana.org/domains/example\">More information...</a></p>\n",
      "</div>\n",
      "\n",
      "\n",
      "</body></html>\n"
     ]
    }
   ],
   "source": [
    "print(client_code)"
   ]
  },
  {
   "cell_type": "markdown",
   "metadata": {},
   "source": [
    "### <span style=\"color: red;\">Capture d'écran</span>\n",
    "\n",
    "La fonction **driver.save_screenshot('chemin_du_fichier')** permet de faire une capture d'écran de la fenêtre du navigateur et l'enregistrer dans un fichier."
   ]
  },
  {
   "cell_type": "code",
   "execution_count": 10,
   "metadata": {},
   "outputs": [],
   "source": [
    "def screenshot(driver, outputPath, width=None):\n",
    "        if width==None: \n",
    "            width = driver.execute_script('return document.documentElement.scrollWidth')\n",
    "        \n",
    "        heightMax = driver.execute_script('return document.documentElement.scrollHeight')\n",
    "        \n",
    "        driver.set_window_size(width, heightMax)\n",
    "        driver.save_screenshot(outputPath)"
   ]
  },
  {
   "cell_type": "markdown",
   "metadata": {},
   "source": [
    "*Remarque*: A l'aide des fonctions JavaScript il est possible d'obtenir la largeur et longueur maximale de la page avec respectivement \"*return document.documentElement.scrollWidth*\" et \"*return document.documentElement.scrollHeight*\".\n",
    "\n",
    "**driver.set_window_size(width, height)** permet de définir la taille de la fenêtre."
   ]
  },
  {
   "cell_type": "code",
   "execution_count": 11,
   "metadata": {},
   "outputs": [],
   "source": [
    "screenshot(driver, 'test.png', 20)"
   ]
  },
  {
   "cell_type": "markdown",
   "metadata": {},
   "source": [
    "*Remarque*: La capture complète de la page ne fonctionne qu'avec le mode \"headless\" dans la majorité des cas."
   ]
  },
  {
   "cell_type": "markdown",
   "metadata": {},
   "source": [
    "### <span style=\"color: red;\">Code serveur</span>\n",
    "Normalement selenium ne nous permet pas d'accéder directement à la réponse HTTP, elle est directement interprétée par le navigateur.\n",
    "\n",
    "**Astuce**: l'utilisation du [schéma d'URI](https://fr.wikipedia.org/wiki/Sch%C3%A9ma_d%27URI) \"view-source\" supporté par certains navigateurs (dont Firefox et Chrome) permet d'afficher le code reçu du serveur."
   ]
  },
  {
   "cell_type": "code",
   "execution_count": null,
   "metadata": {
    "scrolled": true
   },
   "outputs": [],
   "source": [
    "def serverCode(driver):\n",
    "    url = driver.current_url\n",
    "    driver.get('view-source:'+url)\n",
    "    server_code = driver.find_element_by_xpath(\"//*\").text\n",
    "    driver.back()\n",
    "    \n",
    "    return server_code"
   ]
  },
  {
   "cell_type": "markdown",
   "metadata": {},
   "source": [
    "**driver.current_url** retourne l'url actuelle du navigateur.\n",
    "\n",
    "**driver.find_element_by_xpath(\"//*\")** permet de séléctionner l'élément racine du document."
   ]
  },
  {
   "cell_type": "code",
   "execution_count": null,
   "metadata": {},
   "outputs": [],
   "source": [
    "server_code = serverCode(driver)\n",
    "print(server_code)"
   ]
  },
  {
   "cell_type": "markdown",
   "metadata": {},
   "source": [
    "*Remarque*: Attention exécuter la fonction change la page du navigateur. La fonction driver.back() permet de revenir à la page précédente."
   ]
  },
  {
   "cell_type": "markdown",
   "metadata": {},
   "source": [
    "## 2.5. Proxy TOR\n",
    "\n",
    "Il faut préalablement ouvrir le port de communication pour TOR. Nous utiliserons dans l'exemple le port 9050."
   ]
  },
  {
   "cell_type": "markdown",
   "metadata": {},
   "source": [
    "### 2.5.1. Firefox"
   ]
  },
  {
   "cell_type": "code",
   "execution_count": null,
   "metadata": {},
   "outputs": [],
   "source": [
    "profile = webdriver.FirefoxProfile()\n",
    "\n",
    "profile.set_preference(\"network.proxy.type\", 1)\n",
    "profile.set_preference(\"network.proxy.socks\", \"127.0.0.1\")\n",
    "profile.set_preference(\"network.proxy.socks_port\", 9050)\n",
    "profile.set_preference(\"network.proxy.socks_version\", 5)\n",
    "profile.set_preference(\"network.proxy.socks_remote_dns\", True)"
   ]
  },
  {
   "cell_type": "markdown",
   "metadata": {},
   "source": [
    "## 2.6. Manipulation du navigateur\n",
    "\n",
    "Exemple: Remplir un formulaire et l'envoyer\n"
   ]
  },
  {
   "cell_type": "code",
   "execution_count": 14,
   "metadata": {},
   "outputs": [],
   "source": [
    "url = 'https://www.w3schools.com/html/html_forms.asp'\n",
    "driver.get(url)"
   ]
  },
  {
   "cell_type": "markdown",
   "metadata": {},
   "source": [
    "Sélection d'un élément (balise) par son attribut id. Enlever la valeur (clear) et envoi d'un texte (send_keys).\n"
   ]
  },
  {
   "cell_type": "code",
   "execution_count": 16,
   "metadata": {},
   "outputs": [],
   "source": [
    "nom = \"Démo\"\n",
    "driver.find_element_by_id('fname').clear()\n",
    "driver.find_element_by_id('fname').send_keys(nom)"
   ]
  },
  {
   "cell_type": "code",
   "execution_count": 18,
   "metadata": {},
   "outputs": [],
   "source": [
    "nom = \"Robert\"\n",
    "driver.find_element_by_id('lname').clear()\n",
    "driver.find_element_by_id('lname').send_keys(nom)"
   ]
  },
  {
   "cell_type": "markdown",
   "metadata": {},
   "source": [
    "Soumettre le formulaire"
   ]
  },
  {
   "cell_type": "code",
   "execution_count": 19,
   "metadata": {},
   "outputs": [],
   "source": [
    "driver.find_element_by_id('lname').submit()"
   ]
  }
 ],
 "metadata": {
  "kernelspec": {
   "display_name": "Python 3",
   "language": "python",
   "name": "python3"
  },
  "language_info": {
   "codemirror_mode": {
    "name": "ipython",
    "version": 3
   },
   "file_extension": ".py",
   "mimetype": "text/x-python",
   "name": "python",
   "nbconvert_exporter": "python",
   "pygments_lexer": "ipython3",
   "version": "3.7.0"
  }
 },
 "nbformat": 4,
 "nbformat_minor": 4
}
