{
 "cells": [
  {
   "cell_type": "markdown",
   "metadata": {},
   "source": [
    " <div name=\"author\" style=\"text-align: right\"> Thomas Pineau </div>\n",
    "<h1>IVI - RegEx</h1>"
   ]
  },
  {
   "cell_type": "markdown",
   "metadata": {},
   "source": [
    "## 1. Importation du module"
   ]
  },
  {
   "cell_type": "code",
   "execution_count": 1,
   "metadata": {},
   "outputs": [],
   "source": [
    "import re"
   ]
  },
  {
   "cell_type": "markdown",
   "metadata": {},
   "source": [
    "* [**re**](https://docs.python.org/3/library/re.html): les expressions régulières.\n",
    "\n",
    "[Tester](https://regex101.com/) les expressions régulières ou les [visualiser](http://www.cheminfo.org/Utility/RegExp_explorer/index.html)."
   ]
  },
  {
   "cell_type": "markdown",
   "metadata": {},
   "source": [
    "## 2. Quelques fonctions"
   ]
  },
  {
   "cell_type": "markdown",
   "metadata": {},
   "source": [
    "### 2.1. re.match et re.search\n",
    "\n",
    "Permet de trouver la première occurrence correspondant à l'expression régulière.\n",
    "\n",
    "* **re.match** <u>en début</u> de la chaîne de caractères.\n",
    "* **re.search** dans <u>toute</u> la chaîne de caractères.\n",
    "\n",
    "Les fonctions retournent None si aucun élément ne correspond.\n",
    "#### Exemples"
   ]
  },
  {
   "cell_type": "code",
   "execution_count": 2,
   "metadata": {},
   "outputs": [
    {
     "name": "stdout",
     "output_type": "stream",
     "text": [
      "<re.Match object; span=(0, 1), match='a'>\n"
     ]
    }
   ],
   "source": [
    "result = re.match('a', 'abc')  \n",
    "print(result)"
   ]
  },
  {
   "cell_type": "code",
   "execution_count": 3,
   "metadata": {},
   "outputs": [
    {
     "name": "stdout",
     "output_type": "stream",
     "text": [
      "None\n"
     ]
    }
   ],
   "source": [
    "result = re.match('b', 'abc')  \n",
    "print(result)"
   ]
  },
  {
   "cell_type": "code",
   "execution_count": 4,
   "metadata": {},
   "outputs": [
    {
     "name": "stdout",
     "output_type": "stream",
     "text": [
      "<re.Match object; span=(1, 2), match='b'>\n"
     ]
    }
   ],
   "source": [
    "result = re.search('b', 'abc')  \n",
    "print(result)"
   ]
  },
  {
   "cell_type": "markdown",
   "metadata": {},
   "source": [
    "### 2.2. re.findall\n",
    "\n",
    "Permet de trouver toutes les occurrences correspondant à l'expression régulière. La fonction retourne toujours une liste (vide si rien ne correspond).\n",
    "\n",
    "#### Exemples"
   ]
  },
  {
   "cell_type": "code",
   "execution_count": 5,
   "metadata": {},
   "outputs": [],
   "source": [
    "texte = \"\"\"\n",
    "\n",
    "    <html>\n",
    "        <div id=\"content1\">\n",
    "            Contenu no1 John Watson 078 556 55 14\n",
    "        </div>\n",
    "        <div id=\"content2\" class=\"class1\">\n",
    "           Contenu no2\\n\n",
    "           \\tjohn.watson@gmail.com & martin.dawson@protonmail.com\n",
    "            <div id=\"content3\" class=\"sub-content class1\">\n",
    "                Contenu no3 0985554512\n",
    "            </div>\n",
    "        </div>\n",
    "    </html>\n",
    "\"\"\""
   ]
  },
  {
   "cell_type": "markdown",
   "metadata": {},
   "source": [
    "* Pour trouver tous les \"Contenus noX\" dans notre chaine de caractères."
   ]
  },
  {
   "cell_type": "code",
   "execution_count": 6,
   "metadata": {},
   "outputs": [],
   "source": [
    "liste = re.findall('Contenu no\\d', texte)"
   ]
  },
  {
   "cell_type": "code",
   "execution_count": 7,
   "metadata": {},
   "outputs": [
    {
     "name": "stdout",
     "output_type": "stream",
     "text": [
      "Contenu no1\n",
      "Contenu no2\n",
      "Contenu no3\n"
     ]
    }
   ],
   "source": [
    "for i in liste: print(i)"
   ]
  },
  {
   "cell_type": "markdown",
   "metadata": {},
   "source": [
    "* Récupérer tout le contenu jusqu'au caractère \"&\""
   ]
  },
  {
   "cell_type": "code",
   "execution_count": 16,
   "metadata": {},
   "outputs": [],
   "source": [
    "liste = re.findall('(contenu no2.*)&', texte, re.DOTALL|re.IGNORECASE)"
   ]
  },
  {
   "cell_type": "code",
   "execution_count": 17,
   "metadata": {},
   "outputs": [
    {
     "name": "stdout",
     "output_type": "stream",
     "text": [
      "Contenu no2\n",
      "\n",
      "           \tjohn.watson@gmail.com \n"
     ]
    }
   ],
   "source": [
    "for i in liste: print(i)"
   ]
  },
  {
   "cell_type": "markdown",
   "metadata": {},
   "source": [
    "* **re.DOTALL** permet d'inclure les retours à la ligne dans le métacaractère \"**.**\"\n",
    "* **re.IGNORECASE** permet d'ignorer la casse (minuscule ou majuscule)"
   ]
  },
  {
   "cell_type": "markdown",
   "metadata": {},
   "source": [
    "* Désigner des groupes avec des \"( )\""
   ]
  },
  {
   "cell_type": "code",
   "execution_count": 18,
   "metadata": {},
   "outputs": [],
   "source": [
    "liste = re.findall('Contenu (no\\d?)', texte)"
   ]
  },
  {
   "cell_type": "code",
   "execution_count": 19,
   "metadata": {},
   "outputs": [
    {
     "name": "stdout",
     "output_type": "stream",
     "text": [
      "no1\n",
      "no2\n",
      "no3\n"
     ]
    }
   ],
   "source": [
    "for i in liste: \n",
    "    print(i)"
   ]
  },
  {
   "cell_type": "markdown",
   "metadata": {},
   "source": [
    "### 2.3. re.sub\n",
    "\n",
    "Remplace toutes les occurences de la sous chaîne de caractères correspondant à la regex par une autre chaîne de caractères.\n",
    "\n",
    "#### Exemple\n",
    "Remplace tous les espaces multiples (espaces et retour à la ligne \"**\\s**\") par un simple espace."
   ]
  },
  {
   "cell_type": "code",
   "execution_count": 20,
   "metadata": {},
   "outputs": [
    {
     "data": {
      "text/plain": [
       "'Contenu no2 john.watson@gmail.com '"
      ]
     },
     "execution_count": 20,
     "metadata": {},
     "output_type": "execute_result"
    }
   ],
   "source": [
    "liste = re.findall('(contenu no2.*)&', texte, re.DOTALL|re.IGNORECASE)\n",
    "re.sub('\\s+', ' ', liste[0])"
   ]
  },
  {
   "cell_type": "markdown",
   "metadata": {},
   "source": [
    "### 2.4. re.split\n",
    "Transforme une chaîne de caractères en liste à l'aide d'un séparateur.\n",
    "\n",
    "#### Exemple"
   ]
  },
  {
   "cell_type": "code",
   "execution_count": 21,
   "metadata": {},
   "outputs": [
    {
     "data": {
      "text/plain": [
       "['produit', 'prix', 'nombre']"
      ]
     },
     "execution_count": 21,
     "metadata": {},
     "output_type": "execute_result"
    }
   ],
   "source": [
    "string = \"produit;prix;nombre\"\n",
    "re.split(';', string)"
   ]
  },
  {
   "cell_type": "markdown",
   "metadata": {},
   "source": [
    "## 3. Quelques RegEx utiles"
   ]
  },
  {
   "cell_type": "code",
   "execution_count": 22,
   "metadata": {},
   "outputs": [],
   "source": [
    "def findMails(string):\n",
    "    '''Récupère des adresses emails dans une chaine de caractères'''\n",
    "    result = re.findall(\"\\\\b[a-z0-9!#$%&'*+/=?^_`{|}~-]+(?:\\.[a-z0-9!#$%&'*+/=?^_`{|}~-]+)*(?:[\\s\\[\\(])*(?:@|at)(?:[\\s\\]\\)])*(?:[a-z0-9](?:[a-z0-9-]*[a-z0-9])?\\.)+[a-z0-9](?:[a-z0-9-]*[a-z0-9])?\", string)\n",
    "    return result\n",
    "\n",
    "def findPhones(string):\n",
    "    '''Récupère des numéros de téléphones suisses de type 079 945 55 11, 0799455511 ou +41 78 545 45 45 avec des espaces, /, - ou concatené'''\n",
    "    result = re.findall(\"(\\\\b(?:\\+?41[\\s\\-/]?)?0?\\d{2}[\\s\\-/]?\\d{3}[\\s\\-/]?\\d{2}[\\s\\-/]?\\d{2})\", string)\n",
    "    return result\n",
    "\n",
    "def findURL(string):\n",
    "    '''Récupère les url dans une page (utile lorsque les liens n'ont pas de balises <a href>). Attention, uniquement les liens \"HTTP(S)\"!'''\n",
    "    result = re.findall(\"(\\\\b(?:HTTP[S]?://|www\\.)[\\w\\d\\-\\+&@#/%=~_\\|\\$\\?!:,\\.]{2,}[\\w\\d\\+&@#/%=~_\\|\\$]*)\", string, re.IGNORECASE)\n",
    "    return result\n",
    "\n",
    "def findIPv4(string):\n",
    "    '''Recherche les adresses IPv4'''\n",
    "    result = re.findall(\"(\\d{1,3}\\.\\d{1,3}\\.\\d{1,3}\\.\\d{1,3})\", string)\n",
    "    return result\n",
    "\n",
    "def findIPv6(string):\n",
    "    '''Recherche les adresses IPv6'''\n",
    "    result = re.findall(\"((?:(?:[0-9A-Fa-f]{1,4}:){7}(?:[0-9A-Fa-f]{1,4}|:))|(?:(?:[0-9A-Fa-f]{1,4}:){6}(?::[0-9A-Fa-f]{1,4}|(?:(?:25[0-5]|2[0-4]\\d|1\\d\\d|[1-9]?\\d)(?:\\.(?:25[0-5]|2[0-4]\\d|1\\d\\d|[1-9]?\\d)){3})|:))|(?:(?:[0-9A-Fa-f]{1,4}:){5}(?:(?:(?::[0-9A-Fa-f]{1,4}){1,2})|:(?:(?:25[0-5]|2[0-4]\\d|1\\d\\d|[1-9]?\\d)(?:\\.(?:25[0-5]|2[0-4]\\d|1\\d\\d|[1-9]?\\d)){3})|:))|(?:(?:[0-9A-Fa-f]{1,4}:){4}(?:(?:(?::[0-9A-Fa-f]{1,4}){1,3})|(?:(?::[0-9A-Fa-f]{1,4})?:(?:(?:25[0-5]|2[0-4]\\d|1\\d\\d|[1-9]?\\d)(?:\\.(?:25[0-5]|2[0-4]\\d|1\\d\\d|[1-9]?\\d)){3}))|:))|(?:(?:[0-9A-Fa-f]{1,4}:){3}(?:(?:(?::[0-9A-Fa-f]{1,4}){1,4})|(?:(?::[0-9A-Fa-f]{1,4}){0,2}:(?:(?:25[0-5]|2[0-4]\\d|1\\d\\d|[1-9]?\\d)(?:\\.(?:25[0-5]|2[0-4]\\d|1\\d\\d|[1-9]?\\d)){3}))|:))|(?:(?:[0-9A-Fa-f]{1,4}:){2}(?:(?:(?::[0-9A-Fa-f]{1,4}){1,5})|(?:(?::[0-9A-Fa-f]{1,4}){0,3}:(?:(?:25[0-5]|2[0-4]\\d|1\\d\\d|[1-9]?\\d)(?:\\.(?:25[0-5]|2[0-4]\\d|1\\d\\d|[1-9]?\\d)){3}))|:))|(?:(?:[0-9A-Fa-f]{1,4}:){1}(?:(?:(?::[0-9A-Fa-f]{1,4}){1,6})|(?:(?::[0-9A-Fa-f]{1,4}){0,4}:(?:(?:25[0-5]|2[0-4]\\d|1\\d\\d|[1-9]?\\d)(?:\\.(?:25[0-5]|2[0-4]\\d|1\\d\\d|[1-9]?\\d)){3}))|:))|(?::(?:(?:(?::[0-9A-Fa-f]{1,4}){1,7})|(?:(?::[0-9A-Fa-f]{1,4}){0,5}:(?:(?:25[0-5]|2[0-4]\\d|1\\d\\d|[1-9]?\\d)(?:\\.(?:25[0-5]|2[0-4]\\d|1\\d\\d|[1-9]?\\d)){3}))|:)))(?:%.+)?\\s*\", string)\n",
    "    return result\n",
    "\n",
    "def removeSpaces(string_or_list):\n",
    "    '''Supprime des espaces trop nombreux dans une chaine de caractères ou dans une liste de chaine de caractères'''\n",
    "    if type(string_or_list) == str:\n",
    "        result = re.sub(\"\\s+\", \" \", string_or_list).strip() # .strip() permet de supprimer les espaces au début et à la fin de la chaîne\n",
    "    elif type(string_or_list) == list:\n",
    "        result = [re.sub('\\s+', ' ', string).strip() for string in string_or_list]\n",
    "    else: result = string_or_list\n",
    "    return result\n",
    "\n",
    "def removeTags(string):\n",
    "    '''Supprime les balises html et ce qu'elles contiennent, privilégier lxml (.text_content()) si de nombreuses balises'''\n",
    "    result = re.sub(\"<.*?>\", \"\", string)\n",
    "    return result\n",
    "\n",
    "def removeEmptyString(liste):\n",
    "    '''Supprime des éléments vides dans une liste (passer une liste en argument)'''\n",
    "    result = [element for element in liste if element] # \"if element\" est vrai si l'element contient quelque chose. Sinon il n'est pas retourné et est supprimé de la liste\n",
    "    return result\n"
   ]
  },
  {
   "cell_type": "code",
   "execution_count": 23,
   "metadata": {},
   "outputs": [],
   "source": [
    "texte =  '''\n",
    " <html>\n",
    "    <div id=\"content1\">Contenu fe80::200:5aee:feaa:20a2 no1 John Watson 078/556 55 14</div> https://www.google.ch/url?sa=t&rct=j&q=&esrc=s&source=web&cd=1&cad=rja&uact=8&ved=0ahUKEwi4yqzRr5DXAhVCtBoKHQnnBjUQFggmMAA&url=http%3A%2F%2Fwww.unil.ch%2F&usg=AOvVaw12T7jtXwyBZj8UzETuYVEZ\n",
    "    <div id=\"content2\" class=\"class1\">\n",
    "        Contenu no2    \\r\\n\n",
    "        \\tjohn.watson@gmail.com & martin.4.dawson [at] protonmail.com www.google.ch +41 78 545 45 45 http://145.122.145.56/index.php\n",
    "        <div id=\"content3\" class=\"sub-content class1\">\n",
    "            2001:0db8:85a3:0000:0000:8a2e:0370:7334      Contenu no3 0795554512\n",
    "        </div> \n",
    "        http://unil.ch\n",
    "    </div>\n",
    " </html>\n",
    "'''\n"
   ]
  },
  {
   "cell_type": "code",
   "execution_count": 24,
   "metadata": {},
   "outputs": [
    {
     "name": "stdout",
     "output_type": "stream",
     "text": [
      "john.watson@gmail.com\n",
      "martin.4.dawson [at] protonmail.com\n"
     ]
    }
   ],
   "source": [
    "liste = findMails(texte)\n",
    "for i in liste: print(i)"
   ]
  },
  {
   "cell_type": "code",
   "execution_count": 25,
   "metadata": {},
   "outputs": [
    {
     "name": "stdout",
     "output_type": "stream",
     "text": [
      "078/556 55 14\n",
      "41 78 545 45 45\n",
      "0795554512\n"
     ]
    }
   ],
   "source": [
    "liste = findPhones(texte)\n",
    "for i in liste: print(i)"
   ]
  },
  {
   "cell_type": "markdown",
   "metadata": {},
   "source": [
    "*Remarque*: Le module [phonenumbers](https://pypi.org/project/phonenumbers/) permet de détecter et gérer les numéros de téléphone sous forme de chaîne de caractères."
   ]
  },
  {
   "cell_type": "code",
   "execution_count": 26,
   "metadata": {},
   "outputs": [
    {
     "name": "stdout",
     "output_type": "stream",
     "text": [
      "https://www.google.ch/url?sa=t&rct=j&q=&esrc=s&source=web&cd=1&cad=rja&uact=8&ved=0ahUKEwi4yqzRr5DXAhVCtBoKHQnnBjUQFggmMAA&url=http%3A%2F%2Fwww.unil.ch%2F&usg=AOvVaw12T7jtXwyBZj8UzETuYVEZ\n",
      "www.google.ch\n",
      "http://145.122.145.56/index.php\n",
      "http://unil.ch\n"
     ]
    }
   ],
   "source": [
    "liste = findURL(texte)\n",
    "for i in liste: print(i)"
   ]
  },
  {
   "cell_type": "code",
   "execution_count": 27,
   "metadata": {},
   "outputs": [
    {
     "name": "stdout",
     "output_type": "stream",
     "text": [
      "145.122.145.56\n"
     ]
    }
   ],
   "source": [
    "liste = findIPv4(texte)\n",
    "for i in liste: print(i)"
   ]
  },
  {
   "cell_type": "code",
   "execution_count": 28,
   "metadata": {},
   "outputs": [
    {
     "name": "stdout",
     "output_type": "stream",
     "text": [
      "fe80::200:5aee:feaa:20a2\n",
      "2001:0db8:85a3:0000:0000:8a2e:0370:7334\n"
     ]
    }
   ],
   "source": [
    "liste = findIPv6(texte)\n",
    "for i in liste: print(i)"
   ]
  },
  {
   "cell_type": "code",
   "execution_count": 29,
   "metadata": {},
   "outputs": [
    {
     "name": "stdout",
     "output_type": "stream",
     "text": [
      "Hello, Bienvenue au cours IVI !!\n",
      "['element1', 'element2', 'element3']\n"
     ]
    }
   ],
   "source": [
    "liste = [' element1        ', '  element2', '    element3  ']\n",
    "string = ' Hello,\\n\\tBienvenue au cours       IVI     !!'\n",
    "print(removeSpaces(string))\n",
    "print(removeSpaces(liste))"
   ]
  },
  {
   "cell_type": "code",
   "execution_count": 30,
   "metadata": {},
   "outputs": [
    {
     "name": "stdout",
     "output_type": "stream",
     "text": [
      "\n",
      " \n",
      "    Contenu fe80::200:5aee:feaa:20a2 no1 John Watson 078/556 55 14 https://www.google.ch/url?sa=t&rct=j&q=&esrc=s&source=web&cd=1&cad=rja&uact=8&ved=0ahUKEwi4yqzRr5DXAhVCtBoKHQnnBjUQFggmMAA&url=http%3A%2F%2Fwww.unil.ch%2F&usg=AOvVaw12T7jtXwyBZj8UzETuYVEZ\n",
      "    \n",
      "        Contenu no2    \r\n",
      "\n",
      "        \tjohn.watson@gmail.com & martin.4.dawson [at] protonmail.com www.google.ch +41 78 545 45 45 http://145.122.145.56/index.php\n",
      "        \n",
      "            2001:0db8:85a3:0000:0000:8a2e:0370:7334      Contenu no3 0795554512\n",
      "         \n",
      "        http://unil.ch\n",
      "    \n",
      " \n",
      "\n"
     ]
    }
   ],
   "source": [
    "print(removeTags(texte))"
   ]
  },
  {
   "cell_type": "markdown",
   "metadata": {},
   "source": [
    "*Remarque*: Privilégier l'utilisation du module lxml et la fonction .text_content() pour récupérer le contenu textuel d'une balise."
   ]
  },
  {
   "cell_type": "code",
   "execution_count": 31,
   "metadata": {},
   "outputs": [
    {
     "name": "stdout",
     "output_type": "stream",
     "text": [
      "['element1', 'element2', 'element3']\n"
     ]
    }
   ],
   "source": [
    "liste = ['', 'element1', '', 'element2', 'element3', '', '', None]\n",
    "print(removeEmptyString(liste))"
   ]
  }
 ],
 "metadata": {
  "kernelspec": {
   "display_name": "Python 3",
   "language": "python",
   "name": "python3"
  },
  "language_info": {
   "codemirror_mode": {
    "name": "ipython",
    "version": 3
   },
   "file_extension": ".py",
   "mimetype": "text/x-python",
   "name": "python",
   "nbconvert_exporter": "python",
   "pygments_lexer": "ipython3",
   "version": "3.7.0"
  }
 },
 "nbformat": 4,
 "nbformat_minor": 4
}
