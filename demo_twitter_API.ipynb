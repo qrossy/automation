{
 "cells": [
  {
   "cell_type": "markdown",
   "metadata": {},
   "source": [
    " <div name=\"author\" style=\"text-align: right\"> Thomas Pineau </div>\n",
    "<h1>IVI - Twitter API</h1>"
   ]
  },
  {
   "cell_type": "markdown",
   "metadata": {},
   "source": [
    "# 1. Installation des modules\n",
    "Depuis le terminal (UNIX) ou invite de commande (Windows)."
   ]
  },
  {
   "cell_type": "code",
   "execution_count": null,
   "metadata": {},
   "outputs": [],
   "source": [
    "pip install tweepy"
   ]
  },
  {
   "cell_type": "markdown",
   "metadata": {},
   "source": [
    "* [**tweepy**](http://tweepy.readthedocs.io): API Twitter\n",
    "\n"
   ]
  },
  {
   "cell_type": "markdown",
   "metadata": {},
   "source": [
    "# 2. Démo"
   ]
  },
  {
   "cell_type": "markdown",
   "metadata": {},
   "source": [
    "## 2.1. Importation du module"
   ]
  },
  {
   "cell_type": "code",
   "execution_count": 1,
   "metadata": {},
   "outputs": [],
   "source": [
    "import tweepy \n",
    "import json"
   ]
  },
  {
   "cell_type": "markdown",
   "metadata": {},
   "source": [
    "## 2.2. Connexion à l'API \n",
    "Création d'un compte développeur sur Twitter et récupération des clefs pour l'authentification."
   ]
  },
  {
   "cell_type": "code",
   "execution_count": 2,
   "metadata": {},
   "outputs": [],
   "source": [
    "from account import consumer_key, consumer_secret, access_token, access_secret\n",
    "\n",
    "auth = tweepy.OAuthHandler(consumer_key,consumer_secret)\n",
    "auth.set_access_token(access_token,access_secret)\n",
    "api = tweepy.API(auth, wait_on_rate_limit=True)"
   ]
  },
  {
   "cell_type": "markdown",
   "metadata": {},
   "source": [
    "## 2.3. Recherche d'un utilisateur\n"
   ]
  },
  {
   "cell_type": "code",
   "execution_count": 3,
   "metadata": {},
   "outputs": [
    {
     "name": "stdout",
     "output_type": "stream",
     "text": [
      "{\n",
      "    \"id\": 227358393,\n",
      "    \"id_str\": \"227358393\",\n",
      "    \"name\": \"Université de Lausanne\",\n",
      "    \"screen_name\": \"unil\",\n",
      "    \"location\": \"Lausanne\",\n",
      "    \"profile_location\": null,\n",
      "    \"description\": \"Profil officiel de l'Université de Lausanne (Suisse). Le savoir vivant. Sept facultés. 15 programmes de bachelor, 42 programmes de master #unil\",\n",
      "    \"url\": \"https://t.co/uYV7mhagSe\",\n",
      "    \"entities\": {\n",
      "        \"url\": {\n",
      "            \"urls\": [\n",
      "                {\n",
      "                    \"url\": \"https://t.co/uYV7mhagSe\",\n",
      "                    \"expanded_url\": \"http://unil.ch\",\n",
      "                    \"display_url\": \"unil.ch\",\n",
      "                    \"indices\": [\n",
      "                        0,\n",
      "                        23\n",
      "                    ]\n",
      "                }\n",
      "            ]\n",
      "        },\n",
      "        \"description\": {\n",
      "            \"urls\": []\n",
      "        }\n",
      "    },\n",
      "    \"protected\": false,\n",
      "    \"followers_count\": 23291,\n",
      "    \"friends_count\": 4994,\n",
      "    \"listed_count\": 343,\n",
      "    \"created_at\": \"Thu Dec 16 16:44:53 +0000 2010\",\n",
      "    \"favourites_count\": 6051,\n",
      "    \"utc_offset\": null,\n",
      "    \"time_zone\": null,\n",
      "    \"geo_enabled\": true,\n",
      "    \"verified\": false,\n",
      "    \"statuses_count\": 9064,\n",
      "    \"lang\": null,\n",
      "    \"status\": {\n",
      "        \"created_at\": \"Thu Sep 30 10:54:23 +0000 2021\",\n",
      "        \"id\": 1443529654543990787,\n",
      "        \"id_str\": \"1443529654543990787\",\n",
      "        \"text\": \"RT @SwissClinTrial: Getting trained as a #clinicalresearcher can be challenging, especially for young physicians.\\n\\nThe new Clinical Researc…\",\n",
      "        \"truncated\": false,\n",
      "        \"entities\": {\n",
      "            \"hashtags\": [\n",
      "                {\n",
      "                    \"text\": \"clinicalresearcher\",\n",
      "                    \"indices\": [\n",
      "                        41,\n",
      "                        60\n",
      "                    ]\n",
      "                }\n",
      "            ],\n",
      "            \"symbols\": [],\n",
      "            \"user_mentions\": [\n",
      "                {\n",
      "                    \"screen_name\": \"SwissClinTrial\",\n",
      "                    \"name\": \"Swiss Clinical Trial Organisation (SCTO)\",\n",
      "                    \"id\": 1126758047571820544,\n",
      "                    \"id_str\": \"1126758047571820544\",\n",
      "                    \"indices\": [\n",
      "                        3,\n",
      "                        18\n",
      "                    ]\n",
      "                }\n",
      "            ],\n",
      "            \"urls\": []\n",
      "        },\n",
      "        \"source\": \"<a href=\\\"https://mobile.twitter.com\\\" rel=\\\"nofollow\\\">Twitter Web App</a>\",\n",
      "        \"in_reply_to_status_id\": null,\n",
      "        \"in_reply_to_status_id_str\": null,\n",
      "        \"in_reply_to_user_id\": null,\n",
      "        \"in_reply_to_user_id_str\": null,\n",
      "        \"in_reply_to_screen_name\": null,\n",
      "        \"geo\": null,\n",
      "        \"coordinates\": null,\n",
      "        \"place\": null,\n",
      "        \"contributors\": null,\n",
      "        \"retweeted_status\": {\n",
      "            \"created_at\": \"Tue Sep 28 07:25:12 +0000 2021\",\n",
      "            \"id\": 1442752234182389765,\n",
      "            \"id_str\": \"1442752234182389765\",\n",
      "            \"text\": \"Getting trained as a #clinicalresearcher can be challenging, especially for young physicians.\\n\\nThe new Clinical Res… https://t.co/Fjq59LR4Ba\",\n",
      "            \"truncated\": true,\n",
      "            \"entities\": {\n",
      "                \"hashtags\": [\n",
      "                    {\n",
      "                        \"text\": \"clinicalresearcher\",\n",
      "                        \"indices\": [\n",
      "                            21,\n",
      "                            40\n",
      "                        ]\n",
      "                    }\n",
      "                ],\n",
      "                \"symbols\": [],\n",
      "                \"user_mentions\": [],\n",
      "                \"urls\": [\n",
      "                    {\n",
      "                        \"url\": \"https://t.co/Fjq59LR4Ba\",\n",
      "                        \"expanded_url\": \"https://twitter.com/i/web/status/1442752234182389765\",\n",
      "                        \"display_url\": \"twitter.com/i/web/status/1…\",\n",
      "                        \"indices\": [\n",
      "                            117,\n",
      "                            140\n",
      "                        ]\n",
      "                    }\n",
      "                ]\n",
      "            },\n",
      "            \"source\": \"<a href=\\\"https://mobile.twitter.com\\\" rel=\\\"nofollow\\\">Twitter Web App</a>\",\n",
      "            \"in_reply_to_status_id\": null,\n",
      "            \"in_reply_to_status_id_str\": null,\n",
      "            \"in_reply_to_user_id\": null,\n",
      "            \"in_reply_to_user_id_str\": null,\n",
      "            \"in_reply_to_screen_name\": null,\n",
      "            \"geo\": null,\n",
      "            \"coordinates\": null,\n",
      "            \"place\": null,\n",
      "            \"contributors\": null,\n",
      "            \"is_quote_status\": false,\n",
      "            \"retweet_count\": 5,\n",
      "            \"favorite_count\": 3,\n",
      "            \"favorited\": false,\n",
      "            \"retweeted\": false,\n",
      "            \"possibly_sensitive\": false,\n",
      "            \"lang\": \"en\"\n",
      "        },\n",
      "        \"is_quote_status\": false,\n",
      "        \"retweet_count\": 5,\n",
      "        \"favorite_count\": 0,\n",
      "        \"favorited\": false,\n",
      "        \"retweeted\": false,\n",
      "        \"lang\": \"en\"\n",
      "    },\n",
      "    \"contributors_enabled\": false,\n",
      "    \"is_translator\": false,\n",
      "    \"is_translation_enabled\": false,\n",
      "    \"profile_background_color\": \"2F74D4\",\n",
      "    \"profile_background_image_url\": \"http://abs.twimg.com/images/themes/theme1/bg.png\",\n",
      "    \"profile_background_image_url_https\": \"https://abs.twimg.com/images/themes/theme1/bg.png\",\n",
      "    \"profile_background_tile\": false,\n",
      "    \"profile_image_url\": \"http://pbs.twimg.com/profile_images/552015952120778753/1MZrtwpI_normal.jpeg\",\n",
      "    \"profile_image_url_https\": \"https://pbs.twimg.com/profile_images/552015952120778753/1MZrtwpI_normal.jpeg\",\n",
      "    \"profile_banner_url\": \"https://pbs.twimg.com/profile_banners/227358393/1622813261\",\n",
      "    \"profile_link_color\": \"0D8DCD\",\n",
      "    \"profile_sidebar_border_color\": \"C0DEED\",\n",
      "    \"profile_sidebar_fill_color\": \"DDEEF6\",\n",
      "    \"profile_text_color\": \"333333\",\n",
      "    \"profile_use_background_image\": true,\n",
      "    \"has_extended_profile\": false,\n",
      "    \"default_profile\": false,\n",
      "    \"default_profile_image\": false,\n",
      "    \"following\": false,\n",
      "    \"follow_request_sent\": false,\n",
      "    \"notifications\": false,\n",
      "    \"translator_type\": \"none\",\n",
      "    \"withheld_in_countries\": []\n",
      "}\n"
     ]
    }
   ],
   "source": [
    "username = \"unil\"\n",
    "user = api.get_user(screen_name=username)\n",
    "\n",
    "print(json.dumps(user._json, indent=4, ensure_ascii=False))"
   ]
  },
  {
   "cell_type": "code",
   "execution_count": null,
   "metadata": {},
   "outputs": [],
   "source": []
  }
 ],
 "metadata": {
  "kernelspec": {
   "display_name": "Python 3",
   "language": "python",
   "name": "python3"
  },
  "language_info": {
   "codemirror_mode": {
    "name": "ipython",
    "version": 3
   },
   "file_extension": ".py",
   "mimetype": "text/x-python",
   "name": "python",
   "nbconvert_exporter": "python",
   "pygments_lexer": "ipython3",
   "version": "3.7.0"
  }
 },
 "nbformat": 4,
 "nbformat_minor": 4
}
