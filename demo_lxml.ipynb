{
 "cells": [
  {
   "cell_type": "markdown",
   "metadata": {},
   "source": [
    " <div name=\"author\" style=\"text-align: right\"> Thomas Pineau </div>\n",
    "<h1>IVI - Parsing</h1>"
   ]
  },
  {
   "cell_type": "markdown",
   "metadata": {},
   "source": [
    "# 1. Installation des modules\n",
    "Depuis le terminal (UNIX) ou invite de commande (Windows)."
   ]
  },
  {
   "cell_type": "code",
   "execution_count": 1,
   "metadata": {},
   "outputs": [
    {
     "name": "stdout",
     "output_type": "stream",
     "text": [
      "Requirement already satisfied: lxml in c:\\users\\thomas\\appdata\\local\\programs\\python\\python37-32\\lib\\site-packages (4.6.3)\n",
      "Requirement already satisfied: cssselect in c:\\users\\thomas\\appdata\\local\\programs\\python\\python37-32\\lib\\site-packages (1.1.0)\n",
      "Note: you may need to restart the kernel to use updated packages.\n"
     ]
    }
   ],
   "source": [
    "pip install lxml cssselect"
   ]
  },
  {
   "cell_type": "markdown",
   "metadata": {},
   "source": [
    "* [**lxml**](https://lxml.de/lxmlhtml.html): HTML parseur.\n",
    "* [**cssselect**](https://pypi.org/project/cssselect/): Permet d'utiliser les selecteurs CSS.\n"
   ]
  },
  {
   "cell_type": "markdown",
   "metadata": {},
   "source": [
    "# 2. Démo"
   ]
  },
  {
   "cell_type": "markdown",
   "metadata": {},
   "source": [
    "## 2.1. Importation du module"
   ]
  },
  {
   "cell_type": "code",
   "execution_count": 2,
   "metadata": {},
   "outputs": [],
   "source": [
    "import lxml.html"
   ]
  },
  {
   "cell_type": "code",
   "execution_count": 3,
   "metadata": {},
   "outputs": [],
   "source": [
    "texte = \"\"\"\n",
    "<html>\n",
    "  <head>\n",
    "    <a href=\"www.esc.ch\"></a>\n",
    "  </head>\n",
    "  <body>\n",
    "      <div id=\"content1\">\n",
    "          Contenu no 1\n",
    "      </div>\n",
    "      <div id=\"content2\" class=\"class1\" name=\"bob\">\n",
    "          Contenu no 2\n",
    "          <span>test</span>\n",
    "      </div>\n",
    "      <div id=\"content3\" class=\"sub-content class1 style1 etc etc\" maVar=\"1\">\n",
    "          text\n",
    "          <a href=\"http://www.unil.ch\">Contenu no 3</a>\n",
    "      </div>\n",
    "  </body>\n",
    "</html>\n",
    "\"\"\""
   ]
  },
  {
   "cell_type": "code",
   "execution_count": 4,
   "metadata": {},
   "outputs": [],
   "source": [
    "html = lxml.html.document_fromstring(texte)"
   ]
  },
  {
   "cell_type": "markdown",
   "metadata": {},
   "source": [
    "*Remarque*: Il est possible de créer l'objet html avec le contenu d'un fichier ou via une url en utilisant la fonction **lxml.html.parse(\"chemin__du_fichier\").getroot()**"
   ]
  },
  {
   "cell_type": "markdown",
   "metadata": {},
   "source": [
    "## 2.2. sélecteurs lxml"
   ]
  },
  {
   "cell_type": "markdown",
   "metadata": {},
   "source": [
    "### 2.2.1. get_element_by_id\n",
    "\n",
    "Sélectionner une balise à l'aide de son attribut **id**. La fonction retourne un seul élément (le premier trouvé)."
   ]
  },
  {
   "cell_type": "code",
   "execution_count": 5,
   "metadata": {},
   "outputs": [],
   "source": [
    "element = html.get_element_by_id('content2')"
   ]
  },
  {
   "cell_type": "markdown",
   "metadata": {},
   "source": [
    "#### Résultat"
   ]
  },
  {
   "cell_type": "markdown",
   "metadata": {},
   "source": [
    "* **text**: contenu textuel contenu directement dans la balise.\n"
   ]
  },
  {
   "cell_type": "code",
   "execution_count": 6,
   "metadata": {},
   "outputs": [
    {
     "name": "stdout",
     "output_type": "stream",
     "text": [
      "\n",
      "          Contenu no 2\n",
      "          \n"
     ]
    }
   ],
   "source": [
    "print(element.text)"
   ]
  },
  {
   "cell_type": "markdown",
   "metadata": {},
   "source": [
    "* **text_content()**: contenu textuel de la balise et de tous ces sous éléments.\n"
   ]
  },
  {
   "cell_type": "code",
   "execution_count": 7,
   "metadata": {},
   "outputs": [
    {
     "name": "stdout",
     "output_type": "stream",
     "text": [
      "\n",
      "          Contenu no 2\n",
      "          test\n",
      "      \n"
     ]
    }
   ],
   "source": [
    "print(element.text_content())"
   ]
  },
  {
   "cell_type": "markdown",
   "metadata": {},
   "source": [
    "* **attrib**: dictionnaire des attributs et des valeurs associées de la balise\n"
   ]
  },
  {
   "cell_type": "code",
   "execution_count": 8,
   "metadata": {},
   "outputs": [
    {
     "name": "stdout",
     "output_type": "stream",
     "text": [
      "{'id': 'content2', 'class': 'class1', 'name': 'bob'}\n"
     ]
    }
   ],
   "source": [
    "print(element.attrib)"
   ]
  },
  {
   "cell_type": "markdown",
   "metadata": {},
   "source": [
    "* **lxml.html.tostring(balise)**: convertit l'objet en chaîne de caractères.\n"
   ]
  },
  {
   "cell_type": "code",
   "execution_count": 9,
   "metadata": {},
   "outputs": [
    {
     "name": "stdout",
     "output_type": "stream",
     "text": [
      "b'<div id=\"content2\" class=\"class1\" name=\"bob\">\\n          Contenu no 2\\n          <span>test</span>\\n      </div>\\n      '\n"
     ]
    }
   ],
   "source": [
    "print(lxml.html.tostring(element))"
   ]
  },
  {
   "cell_type": "markdown",
   "metadata": {},
   "source": [
    "### 2.2.2. find_class\n",
    "\n",
    "Sélectionne des balises à l'aide de leurs attributs **class**. La fonction retourne <u>toujours</u> une liste (une liste vide si aucun élément correspond)."
   ]
  },
  {
   "cell_type": "code",
   "execution_count": 10,
   "metadata": {},
   "outputs": [],
   "source": [
    "liste = html.find_class('class1')"
   ]
  },
  {
   "cell_type": "code",
   "execution_count": 11,
   "metadata": {},
   "outputs": [
    {
     "name": "stdout",
     "output_type": "stream",
     "text": [
      "content2 :  \n",
      "          Contenu no 2\n",
      "          test\n",
      "      \n",
      "content3 :  \n",
      "          text\n",
      "          Contenu no 3\n",
      "      \n"
     ]
    }
   ],
   "source": [
    "for element in liste:\n",
    "    print(element.attrib['id'], ': ', element.text_content())"
   ]
  },
  {
   "cell_type": "markdown",
   "metadata": {},
   "source": [
    "## 2.3. sélecteurs CSS"
   ]
  },
  {
   "cell_type": "markdown",
   "metadata": {},
   "source": [
    "La [liste](https://www.w3schools.com/cssref/css_selectors.asp) des sélecteurs CSS."
   ]
  },
  {
   "cell_type": "markdown",
   "metadata": {},
   "source": [
    "### 2.3.1. Sélection à l'aide du type de la balise\n",
    "\n",
    "Sélectionne des balises à l'aide de leur type. La fonction retourne <u>toujours</u> une liste."
   ]
  },
  {
   "cell_type": "code",
   "execution_count": 12,
   "metadata": {},
   "outputs": [],
   "source": [
    "liste = html.cssselect('div')"
   ]
  },
  {
   "cell_type": "code",
   "execution_count": 13,
   "metadata": {},
   "outputs": [
    {
     "name": "stdout",
     "output_type": "stream",
     "text": [
      "b'<div id=\"content1\">\\n          Contenu no 1\\n      </div>\\n      ' \n",
      "\n",
      "b'<div id=\"content2\" class=\"class1\" name=\"bob\">\\n          Contenu no 2\\n          <span>test</span>\\n      </div>\\n      ' \n",
      "\n",
      "b'<div id=\"content3\" class=\"sub-content class1 style1 etc etc\" mavar=\"1\">\\n          text\\n          <a href=\"http://www.unil.ch\">Contenu no 3</a>\\n      </div>\\n  \\n' \n",
      "\n"
     ]
    }
   ],
   "source": [
    "for element in liste:\n",
    "    print(lxml.html.tostring(element), '\\n')"
   ]
  },
  {
   "cell_type": "markdown",
   "metadata": {},
   "source": [
    "### 2.3.2. Sélecteur: \\#\n",
    "\n",
    "Sélectionne des balises à l'aide de leurs attributs **id**. La fonction retourne <u>toujours</u> une liste."
   ]
  },
  {
   "cell_type": "code",
   "execution_count": 14,
   "metadata": {},
   "outputs": [],
   "source": [
    "liste = html.cssselect('#content2')"
   ]
  },
  {
   "cell_type": "code",
   "execution_count": 15,
   "metadata": {
    "scrolled": true
   },
   "outputs": [
    {
     "name": "stdout",
     "output_type": "stream",
     "text": [
      "b'<div id=\"content2\" class=\"class1\" name=\"bob\">\\n          Contenu no 2\\n          <span>test</span>\\n      </div>\\n      '\n"
     ]
    }
   ],
   "source": [
    "print(lxml.html.tostring(liste[0]))"
   ]
  },
  {
   "cell_type": "markdown",
   "metadata": {},
   "source": [
    "### 2.3.3. Sélecteur: .\n",
    "\n",
    "Sélectionne des balises à l'aide de leurs attributs **class**. La fonction retourne <u>toujours</u> une liste."
   ]
  },
  {
   "cell_type": "code",
   "execution_count": 16,
   "metadata": {},
   "outputs": [],
   "source": [
    "liste = html.cssselect('.class1')"
   ]
  },
  {
   "cell_type": "code",
   "execution_count": 17,
   "metadata": {},
   "outputs": [
    {
     "name": "stdout",
     "output_type": "stream",
     "text": [
      "b'<div id=\"content2\" class=\"class1\" name=\"bob\">\\n          Contenu no 2\\n          <span>test</span>\\n      </div>\\n      ' \n",
      "\n",
      "b'<div id=\"content3\" class=\"sub-content class1 style1 etc etc\" mavar=\"1\">\\n          text\\n          <a href=\"http://www.unil.ch\">Contenu no 3</a>\\n      </div>\\n  \\n' \n",
      "\n"
     ]
    }
   ],
   "source": [
    "for element in liste:\n",
    "    print(lxml.html.tostring(element), '\\n')"
   ]
  },
  {
   "cell_type": "markdown",
   "metadata": {},
   "source": [
    "### 2.3.4. Sélection à l'aide de la valeur d'un attribut\n",
    "\n",
    "Sélectionne des balises à l'aide de la valeur associée à un attribut. La fonction retourne <u>toujours</u> une liste."
   ]
  },
  {
   "cell_type": "code",
   "execution_count": 18,
   "metadata": {},
   "outputs": [],
   "source": [
    "liste = html.cssselect('[maVar=\"1\"]')"
   ]
  },
  {
   "cell_type": "code",
   "execution_count": 19,
   "metadata": {},
   "outputs": [
    {
     "name": "stdout",
     "output_type": "stream",
     "text": [
      "b'<div id=\"content3\" class=\"sub-content class1 style1 etc etc\" mavar=\"1\">\\n          text\\n          <a href=\"http://www.unil.ch\">Contenu no 3</a>\\n      </div>\\n  \\n' \n",
      "\n"
     ]
    }
   ],
   "source": [
    "for element in liste:\n",
    "    print(lxml.html.tostring(element), '\\n')"
   ]
  },
  {
   "cell_type": "markdown",
   "metadata": {},
   "source": [
    "## 2.4. sélecteurs XPath"
   ]
  },
  {
   "cell_type": "markdown",
   "metadata": {},
   "source": [
    "La [syntaxe XPath](https://www.w3schools.com/xml/xpath_syntax.asp)."
   ]
  },
  {
   "cell_type": "markdown",
   "metadata": {},
   "source": [
    "### 2.4.1. Sélection à l'aide du type de la balise\n",
    "\n",
    "Sélectionne des balises à l'aide de leur type. La fonction retourne <u>toujours</u> une liste."
   ]
  },
  {
   "cell_type": "code",
   "execution_count": 20,
   "metadata": {},
   "outputs": [],
   "source": [
    "liste = html.xpath('//div')"
   ]
  },
  {
   "cell_type": "code",
   "execution_count": 21,
   "metadata": {},
   "outputs": [
    {
     "name": "stdout",
     "output_type": "stream",
     "text": [
      "b'<div id=\"content1\">\\n          Contenu no 1\\n      </div>\\n      ' \n",
      "\n",
      "b'<div id=\"content2\" class=\"class1\" name=\"bob\">\\n          Contenu no 2\\n          <span>test</span>\\n      </div>\\n      ' \n",
      "\n",
      "b'<div id=\"content3\" class=\"sub-content class1 style1 etc etc\" mavar=\"1\">\\n          text\\n          <a href=\"http://www.unil.ch\">Contenu no 3</a>\\n      </div>\\n  \\n' \n",
      "\n"
     ]
    }
   ],
   "source": [
    "for element in liste:\n",
    "    print(lxml.html.tostring(element), '\\n')"
   ]
  },
  {
   "cell_type": "markdown",
   "metadata": {},
   "source": [
    "### 2.4.2. Sélection à l'aide de la valeur d'un attribut\n",
    "\n",
    "Sélectionne des balises à l'aide de la valeur associée à un attribut. La fonction retourne <u>toujours</u> une liste."
   ]
  },
  {
   "cell_type": "code",
   "execution_count": 22,
   "metadata": {},
   "outputs": [],
   "source": [
    "liste = html.xpath('//*[@id=\"content2\"]')"
   ]
  },
  {
   "cell_type": "markdown",
   "metadata": {},
   "source": [
    "**xpath('//<span style=\"color:red;\">type</span>[@<span style=\"color:green;\">attribut</span>=\"<span style=\"color:green;\">valeur</span>\"]')**\n",
    "\n",
    "**\\*** permet de sélectionner n'importe quelles balises.\n",
    "\n",
    "l'attribut prend le nom de l'attribut ciblé: id, class, maVar, etc."
   ]
  },
  {
   "cell_type": "code",
   "execution_count": 23,
   "metadata": {},
   "outputs": [
    {
     "name": "stdout",
     "output_type": "stream",
     "text": [
      "b'<div id=\"content2\" class=\"class1\" name=\"bob\">\\n          Contenu no 2\\n          <span>test</span>\\n      </div>\\n      ' \n",
      "\n"
     ]
    }
   ],
   "source": [
    "for element in liste:\n",
    "    print(lxml.html.tostring(element), '\\n')"
   ]
  },
  {
   "cell_type": "markdown",
   "metadata": {},
   "source": [
    "### 2.4.3. Sélection d'attribut\n",
    "\n",
    "Sélectionne les valeurs associées à un attribut. La fonction retourne <u>toujours</u> une liste."
   ]
  },
  {
   "cell_type": "code",
   "execution_count": 24,
   "metadata": {},
   "outputs": [],
   "source": [
    "liste = html.xpath('//@href')"
   ]
  },
  {
   "cell_type": "markdown",
   "metadata": {},
   "source": [
    "Par exemple: les attributs href contiennent les liens (URL, script, etc.) de la page"
   ]
  },
  {
   "cell_type": "code",
   "execution_count": 25,
   "metadata": {},
   "outputs": [
    {
     "name": "stdout",
     "output_type": "stream",
     "text": [
      "www.esc.ch \n",
      "\n",
      "http://www.unil.ch \n",
      "\n"
     ]
    }
   ],
   "source": [
    "for href in liste:\n",
    "    print(href, '\\n')"
   ]
  },
  {
   "cell_type": "markdown",
   "metadata": {},
   "source": [
    "### 2.4.4. Sélecteurs utiles\n",
    "\n",
    "Avec XPath, il est possible d'utiliser des sélecteurs plus complexes comme: **and**, **or**, **contains**, **not contains**, etc."
   ]
  },
  {
   "cell_type": "code",
   "execution_count": 26,
   "metadata": {},
   "outputs": [],
   "source": [
    "liste = html.xpath('''\n",
    "    //div[contains(@class, \"sub-content\") and contains(@class, \"class1\")]/a\n",
    "''')"
   ]
  },
  {
   "cell_type": "code",
   "execution_count": 27,
   "metadata": {},
   "outputs": [
    {
     "name": "stdout",
     "output_type": "stream",
     "text": [
      "b'<a href=\"http://www.unil.ch\">Contenu no 3</a>\\n      ' \n",
      "\n"
     ]
    }
   ],
   "source": [
    "for element in liste:\n",
    "    print(lxml.html.tostring(element), '\\n')"
   ]
  }
 ],
 "metadata": {
  "kernelspec": {
   "display_name": "Python 3",
   "language": "python",
   "name": "python3"
  },
  "language_info": {
   "codemirror_mode": {
    "name": "ipython",
    "version": 3
   },
   "file_extension": ".py",
   "mimetype": "text/x-python",
   "name": "python",
   "nbconvert_exporter": "python",
   "pygments_lexer": "ipython3",
   "version": "3.7.0"
  }
 },
 "nbformat": 4,
 "nbformat_minor": 4
}
